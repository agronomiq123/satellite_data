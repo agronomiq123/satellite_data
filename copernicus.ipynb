{
 "cells": [
  {
   "cell_type": "markdown",
   "metadata": {},
   "source": [
    "This python notebook is used for downloading sentinel 2 data from the copernicus odata services L2A\n",
    "\n",
    "\n",
    "\n"
   ]
  },
  {
   "cell_type": "code",
   "execution_count": 4,
   "metadata": {},
   "outputs": [],
   "source": [
    "# Import Statements\n",
    "import datetime as dt\n",
    "from datetime import datetime, date, timedelta # To define date range of data\n",
    "import requests # To define http request to be make \n",
    "import pandas as pd # Convert data received from copernicus API in easier formatsate\n",
    "import geopandas as gpd # Convert Pandas dataframe in Geo pandas will allow us to use metadata and geoemtry.\n",
    "from shapely.geometry import shape # To convert raw Geometry data"
   ]
  },
  {
   "cell_type": "code",
   "execution_count": 5,
   "metadata": {},
   "outputs": [
    {
     "name": "stdout",
     "output_type": "stream",
     "text": [
      "2023-09-30\n",
      "2023-10-31\n"
     ]
    }
   ],
   "source": [
    "# Credentials\n",
    "# copernicus User email\n",
    "copernicus_user = \"dharani.deivasihamani@azureclouds.io\"\n",
    "# copernicus User Password\n",
    "copernicus_password = \"12July1995!!\"\n",
    "# WKT Representation of BBOX of AOI\n",
    "ft = \"POLYGON ((68.82442652724697 36.33681700064547, 68.82442652724697 6.947659134571538, 96.31618279029806 6.947659134571538, 96.31618279029806 36.33681700064547, 68.82442652724697 36.33681700064547))\"\n",
    "# Sentinel satellite that you are interested in \n",
    "data_collection = \"SENTINEL-2\"\n",
    "\n",
    "# Dates of search \n",
    "\n",
    "start_date = dt.datetime(2023, 9, 30)\n",
    "end_date = dt.datetime(2023, 10, 31)\n",
    "start_date = datetime.strftime(start_date,\"%Y-%m-%d\")\n",
    "end_date = datetime.strftime(end_date,\"%Y-%m-%d\")\n",
    "print(start_date)\n",
    "print(end_date)\n"
   ]
  },
  {
   "cell_type": "code",
   "execution_count": 6,
   "metadata": {},
   "outputs": [],
   "source": [
    "def get_keycloak(username: str, password: str) -> str:\n",
    "    data = {\n",
    "        \"client_id\": \"cdse-public\",\n",
    "        \"username\": username,\n",
    "        \"password\": password,\n",
    "        \"grant_type\": \"password\",\n",
    "    }\n",
    "    try:\n",
    "        r = requests.post(\n",
    "            \"https://identity.dataspace.copernicus.eu/auth/realms/CDSE/protocol/openid-connect/token\",\n",
    "            data=data,\n",
    "        )\n",
    "        r.raise_for_status()\n",
    "    except Exception as e:\n",
    "        raise Exception(\n",
    "            f\"Keycloak token creation failed. Reponse from the server was: {r.json()}\"\n",
    "        )\n",
    "    \n",
    "    return r.json()[\"access_token\"]"
   ]
  },
  {
   "cell_type": "code",
   "execution_count": 7,
   "metadata": {},
   "outputs": [
    {
     "name": "stdout",
     "output_type": "stream",
     "text": [
      " total L2A tiles found 424\n",
      "eyJhbGciOiJSUzI1NiIsInR5cCIgOiAiSldUIiwia2lkIiA6ICJYVUh3VWZKaHVDVWo0X3k4ZF8xM0hxWXBYMFdwdDd2anhob2FPLUxzREZFIn0.eyJleHAiOjE3MjM0NDM0NDksImlhdCI6MTcyMzQ0Mjg0OSwianRpIjoiNDFlNWE5ODQtMWFlNy00ZDk0LWFkZjAtOWEyZGFmNzgyNzgwIiwiaXNzIjoiaHR0cHM6Ly9pZGVudGl0eS5kYXRhc3BhY2UuY29wZXJuaWN1cy5ldS9hdXRoL3JlYWxtcy9DRFNFIiwiYXVkIjpbIkNMT1VERkVSUk9fUFVCTElDIiwiYWNjb3VudCJdLCJzdWIiOiI1ODY3Nzk2NS01ZDkwLTRhZDktOWQyYy1hNGRiMjJiYmQ3NjkiLCJ0eXAiOiJCZWFyZXIiLCJhenAiOiJjZHNlLXB1YmxpYyIsInNlc3Npb25fc3RhdGUiOiI0MzgzZjZhYy0wY2ZkLTRhN2QtYmM5NC03M2QwNmFhNjU0NGYiLCJhbGxvd2VkLW9yaWdpbnMiOlsiaHR0cHM6Ly9sb2NhbGhvc3Q6NDIwMCIsIioiLCJodHRwczovL3dvcmtzcGFjZS5zdGFnaW5nLWNkc2UtZGF0YS1leHBsb3Jlci5hcHBzLnN0YWdpbmcuaW50cmEuY2xvdWRmZXJyby5jb20iXSwicmVhbG1fYWNjZXNzIjp7InJvbGVzIjpbIm9mZmxpbmVfYWNjZXNzIiwidW1hX2F1dGhvcml6YXRpb24iLCJkZWZhdWx0LXJvbGVzLWNkYXMiLCJjb3Blcm5pY3VzLWdlbmVyYWwiXX0sInJlc291cmNlX2FjY2VzcyI6eyJhY2NvdW50Ijp7InJvbGVzIjpbIm1hbmFnZS1hY2NvdW50IiwibWFuYWdlLWFjY291bnQtbGlua3MiLCJ2aWV3LXByb2ZpbGUiXX19LCJzY29wZSI6IkFVRElFTkNFX1BVQkxJQyBvcGVuaWQgZW1haWwgcHJvZmlsZSBvbmRlbWFuZF9wcm9jZXNzaW5nIHVzZXItY29udGV4dCIsInNpZCI6IjQzODNmNmFjLTBjZmQtNGE3ZC1iYzk0LTczZDA2YWE2NTQ0ZiIsImdyb3VwX21lbWJlcnNoaXAiOlsiL2FjY2Vzc19ncm91cHMvdXNlcl90eXBvbG9neS9jb3Blcm5pY3VzX2dlbmVyYWwiLCIvb3JnYW5pemF0aW9ucy9kZWZhdWx0LTU4Njc3OTY1LTVkOTAtNGFkOS05ZDJjLWE0ZGIyMmJiZDc2OS9yZWd1bGFyX3VzZXIiXSwiZW1haWxfdmVyaWZpZWQiOnRydWUsIm5hbWUiOiJEaGFyYW5pIERlaXZhc2loYW1hbmkiLCJvcmdhbml6YXRpb25zIjpbImRlZmF1bHQtNTg2Nzc5NjUtNWQ5MC00YWQ5LTlkMmMtYTRkYjIyYmJkNzY5Il0sInVzZXJfY29udGV4dF9pZCI6IjYyYWU1Zjk1LWJmMWMtNDAzNC1iMzBmLTFjNDIyNDFlODVhNiIsImNvbnRleHRfcm9sZXMiOnt9LCJjb250ZXh0X2dyb3VwcyI6WyIvYWNjZXNzX2dyb3Vwcy91c2VyX3R5cG9sb2d5L2NvcGVybmljdXNfZ2VuZXJhbC8iLCIvb3JnYW5pemF0aW9ucy9kZWZhdWx0LTU4Njc3OTY1LTVkOTAtNGFkOS05ZDJjLWE0ZGIyMmJiZDc2OS9yZWd1bGFyX3VzZXIvIl0sInByZWZlcnJlZF91c2VybmFtZSI6ImRoYXJhbmkuZGVpdmFzaWhhbWFuaUBhenVyZWNsb3Vkcy5pbyIsImdpdmVuX25hbWUiOiJEaGFyYW5pIiwiZmFtaWx5X25hbWUiOiJEZWl2YXNpaGFtYW5pIiwidXNlcl9jb250ZXh0IjoiZGVmYXVsdC01ODY3Nzk2NS01ZDkwLTRhZDktOWQyYy1hNGRiMjJiYmQ3NjkiLCJlbWFpbCI6ImRoYXJhbmkuZGVpdmFzaWhhbWFuaUBhenVyZWNsb3Vkcy5pbyJ9.faYIa8kWYHTq7ZKYaZLV-5MiIO022q6unCFkPnZl_aeppdwLxEzydImgF9bBGTjCbHvEWuU0k7zEJY1uqEXbnHoxMq_etuvMrgFpZFrxK2aFlohkLsXmsW9bKlpff7skmS9xvbY95TDL0j7ESzwWusT1ftw_bA7DgwDdzWIDBXjwrS_maxbexV2xuyIFNdQtWsSxNe9jnNabW6vIj4umYcGpVVBsM6itniGYmusXT0LZUHw6P09nqCV4ZOh_bm05UPYNowiFle60fyriANbJzqv78tAuqi9VAp6OWcrrHrqfZ0L2IPr7u-HVPwkesHUj6-HejAGhSafQZ-2KTMgFYA\n",
      "3e850243-625d-48da-bdcd-b2f0bb23f626\n"
     ]
    },
    {
     "name": "stderr",
     "output_type": "stream",
     "text": [
      "c:\\Users\\Sandhya Rani\\miniconda3\\Lib\\site-packages\\urllib3\\connectionpool.py:1099: InsecureRequestWarning: Unverified HTTPS request is being made to host 'download.dataspace.copernicus.eu'. Adding certificate verification is strongly advised. See: https://urllib3.readthedocs.io/en/latest/advanced-usage.html#tls-warnings\n",
      "  warnings.warn(\n"
     ]
    },
    {
     "name": "stdout",
     "output_type": "stream",
     "text": [
      "S2B_MSIL2A_20230930T041549_N0509_R090_T46RGS_20230930T070035.SAFE\n",
      "eyJhbGciOiJSUzI1NiIsInR5cCIgOiAiSldUIiwia2lkIiA6ICJYVUh3VWZKaHVDVWo0X3k4ZF8xM0hxWXBYMFdwdDd2anhob2FPLUxzREZFIn0.eyJleHAiOjE3MjM0NDM1ODIsImlhdCI6MTcyMzQ0Mjk4MiwianRpIjoiZmE5YzI0NjUtNzlhNi00ZmE2LWEzYWQtNGNmNGQ4MzM0MTM5IiwiaXNzIjoiaHR0cHM6Ly9pZGVudGl0eS5kYXRhc3BhY2UuY29wZXJuaWN1cy5ldS9hdXRoL3JlYWxtcy9DRFNFIiwiYXVkIjpbIkNMT1VERkVSUk9fUFVCTElDIiwiYWNjb3VudCJdLCJzdWIiOiI1ODY3Nzk2NS01ZDkwLTRhZDktOWQyYy1hNGRiMjJiYmQ3NjkiLCJ0eXAiOiJCZWFyZXIiLCJhenAiOiJjZHNlLXB1YmxpYyIsInNlc3Npb25fc3RhdGUiOiJhNzlhNDllYy1hMGZkLTQ2NDctODkzNi01ZTMxN2EyMDAyMjAiLCJhbGxvd2VkLW9yaWdpbnMiOlsiaHR0cHM6Ly9sb2NhbGhvc3Q6NDIwMCIsIioiLCJodHRwczovL3dvcmtzcGFjZS5zdGFnaW5nLWNkc2UtZGF0YS1leHBsb3Jlci5hcHBzLnN0YWdpbmcuaW50cmEuY2xvdWRmZXJyby5jb20iXSwicmVhbG1fYWNjZXNzIjp7InJvbGVzIjpbIm9mZmxpbmVfYWNjZXNzIiwidW1hX2F1dGhvcml6YXRpb24iLCJkZWZhdWx0LXJvbGVzLWNkYXMiLCJjb3Blcm5pY3VzLWdlbmVyYWwiXX0sInJlc291cmNlX2FjY2VzcyI6eyJhY2NvdW50Ijp7InJvbGVzIjpbIm1hbmFnZS1hY2NvdW50IiwibWFuYWdlLWFjY291bnQtbGlua3MiLCJ2aWV3LXByb2ZpbGUiXX19LCJzY29wZSI6IkFVRElFTkNFX1BVQkxJQyBvcGVuaWQgZW1haWwgcHJvZmlsZSBvbmRlbWFuZF9wcm9jZXNzaW5nIHVzZXItY29udGV4dCIsInNpZCI6ImE3OWE0OWVjLWEwZmQtNDY0Ny04OTM2LTVlMzE3YTIwMDIyMCIsImdyb3VwX21lbWJlcnNoaXAiOlsiL2FjY2Vzc19ncm91cHMvdXNlcl90eXBvbG9neS9jb3Blcm5pY3VzX2dlbmVyYWwiLCIvb3JnYW5pemF0aW9ucy9kZWZhdWx0LTU4Njc3OTY1LTVkOTAtNGFkOS05ZDJjLWE0ZGIyMmJiZDc2OS9yZWd1bGFyX3VzZXIiXSwiZW1haWxfdmVyaWZpZWQiOnRydWUsIm5hbWUiOiJEaGFyYW5pIERlaXZhc2loYW1hbmkiLCJvcmdhbml6YXRpb25zIjpbImRlZmF1bHQtNTg2Nzc5NjUtNWQ5MC00YWQ5LTlkMmMtYTRkYjIyYmJkNzY5Il0sInVzZXJfY29udGV4dF9pZCI6IjYyYWU1Zjk1LWJmMWMtNDAzNC1iMzBmLTFjNDIyNDFlODVhNiIsImNvbnRleHRfcm9sZXMiOnt9LCJjb250ZXh0X2dyb3VwcyI6WyIvYWNjZXNzX2dyb3Vwcy91c2VyX3R5cG9sb2d5L2NvcGVybmljdXNfZ2VuZXJhbC8iLCIvb3JnYW5pemF0aW9ucy9kZWZhdWx0LTU4Njc3OTY1LTVkOTAtNGFkOS05ZDJjLWE0ZGIyMmJiZDc2OS9yZWd1bGFyX3VzZXIvIl0sInByZWZlcnJlZF91c2VybmFtZSI6ImRoYXJhbmkuZGVpdmFzaWhhbWFuaUBhenVyZWNsb3Vkcy5pbyIsImdpdmVuX25hbWUiOiJEaGFyYW5pIiwiZmFtaWx5X25hbWUiOiJEZWl2YXNpaGFtYW5pIiwidXNlcl9jb250ZXh0IjoiZGVmYXVsdC01ODY3Nzk2NS01ZDkwLTRhZDktOWQyYy1hNGRiMjJiYmQ3NjkiLCJlbWFpbCI6ImRoYXJhbmkuZGVpdmFzaWhhbWFuaUBhenVyZWNsb3Vkcy5pbyJ9.HjAzZll9iU_DUbmAr0HM8s3D8kVHoT-KOnksywLaRObPA9EyOVFfCYE689fwCrISzLXt2syL5zWS_8ldtj5jMD0Bj429tO5FwPsDDGPZtJyEZWz7m5fZBFjhLuNsOfkXkz3K-2zBzQUU4IzIMJev9W5jGNFxl9v9A79B_V-miMsD-i81shE2pbvW1zBv-27U8Dlxglm4bQB8XSXqE4ElHbF0vg5pOhooe2ToNRpQSxOS5ZH3hCDVVan-XiXdH32uvcDvgEtLTHKiHj4yiN3p0Cs3yNXRnM_At7B0SnhPj5HBxV61RL64gD7RDL2KUoGMoXZh8T0Zu0evFKJUa3MQYQ\n",
      "075360ca-59da-475e-8599-c7a762ced184\n"
     ]
    },
    {
     "name": "stderr",
     "output_type": "stream",
     "text": [
      "c:\\Users\\Sandhya Rani\\miniconda3\\Lib\\site-packages\\urllib3\\connectionpool.py:1099: InsecureRequestWarning: Unverified HTTPS request is being made to host 'download.dataspace.copernicus.eu'. Adding certificate verification is strongly advised. See: https://urllib3.readthedocs.io/en/latest/advanced-usage.html#tls-warnings\n",
      "  warnings.warn(\n"
     ]
    },
    {
     "name": "stdout",
     "output_type": "stream",
     "text": [
      "S2B_MSIL2A_20230930T041549_N0509_R090_T46QFK_20230930T070035.SAFE\n",
      "eyJhbGciOiJSUzI1NiIsInR5cCIgOiAiSldUIiwia2lkIiA6ICJYVUh3VWZKaHVDVWo0X3k4ZF8xM0hxWXBYMFdwdDd2anhob2FPLUxzREZFIn0.eyJleHAiOjE3MjM0NDM3MDgsImlhdCI6MTcyMzQ0MzEwOCwianRpIjoiM2QyZDEyZWItZGQ5YS00YWE0LWIwOGMtMjdkZDg2MTcyYWJmIiwiaXNzIjoiaHR0cHM6Ly9pZGVudGl0eS5kYXRhc3BhY2UuY29wZXJuaWN1cy5ldS9hdXRoL3JlYWxtcy9DRFNFIiwiYXVkIjpbIkNMT1VERkVSUk9fUFVCTElDIiwiYWNjb3VudCJdLCJzdWIiOiI1ODY3Nzk2NS01ZDkwLTRhZDktOWQyYy1hNGRiMjJiYmQ3NjkiLCJ0eXAiOiJCZWFyZXIiLCJhenAiOiJjZHNlLXB1YmxpYyIsInNlc3Npb25fc3RhdGUiOiI0NDYxYzZhOS02OTUyLTQwNWYtOWEzMy05ZGE2N2MxM2VkZmEiLCJhbGxvd2VkLW9yaWdpbnMiOlsiaHR0cHM6Ly9sb2NhbGhvc3Q6NDIwMCIsIioiLCJodHRwczovL3dvcmtzcGFjZS5zdGFnaW5nLWNkc2UtZGF0YS1leHBsb3Jlci5hcHBzLnN0YWdpbmcuaW50cmEuY2xvdWRmZXJyby5jb20iXSwicmVhbG1fYWNjZXNzIjp7InJvbGVzIjpbIm9mZmxpbmVfYWNjZXNzIiwidW1hX2F1dGhvcml6YXRpb24iLCJkZWZhdWx0LXJvbGVzLWNkYXMiLCJjb3Blcm5pY3VzLWdlbmVyYWwiXX0sInJlc291cmNlX2FjY2VzcyI6eyJhY2NvdW50Ijp7InJvbGVzIjpbIm1hbmFnZS1hY2NvdW50IiwibWFuYWdlLWFjY291bnQtbGlua3MiLCJ2aWV3LXByb2ZpbGUiXX19LCJzY29wZSI6IkFVRElFTkNFX1BVQkxJQyBvcGVuaWQgZW1haWwgcHJvZmlsZSBvbmRlbWFuZF9wcm9jZXNzaW5nIHVzZXItY29udGV4dCIsInNpZCI6IjQ0NjFjNmE5LTY5NTItNDA1Zi05YTMzLTlkYTY3YzEzZWRmYSIsImdyb3VwX21lbWJlcnNoaXAiOlsiL2FjY2Vzc19ncm91cHMvdXNlcl90eXBvbG9neS9jb3Blcm5pY3VzX2dlbmVyYWwiLCIvb3JnYW5pemF0aW9ucy9kZWZhdWx0LTU4Njc3OTY1LTVkOTAtNGFkOS05ZDJjLWE0ZGIyMmJiZDc2OS9yZWd1bGFyX3VzZXIiXSwiZW1haWxfdmVyaWZpZWQiOnRydWUsIm5hbWUiOiJEaGFyYW5pIERlaXZhc2loYW1hbmkiLCJvcmdhbml6YXRpb25zIjpbImRlZmF1bHQtNTg2Nzc5NjUtNWQ5MC00YWQ5LTlkMmMtYTRkYjIyYmJkNzY5Il0sInVzZXJfY29udGV4dF9pZCI6IjYyYWU1Zjk1LWJmMWMtNDAzNC1iMzBmLTFjNDIyNDFlODVhNiIsImNvbnRleHRfcm9sZXMiOnt9LCJjb250ZXh0X2dyb3VwcyI6WyIvYWNjZXNzX2dyb3Vwcy91c2VyX3R5cG9sb2d5L2NvcGVybmljdXNfZ2VuZXJhbC8iLCIvb3JnYW5pemF0aW9ucy9kZWZhdWx0LTU4Njc3OTY1LTVkOTAtNGFkOS05ZDJjLWE0ZGIyMmJiZDc2OS9yZWd1bGFyX3VzZXIvIl0sInByZWZlcnJlZF91c2VybmFtZSI6ImRoYXJhbmkuZGVpdmFzaWhhbWFuaUBhenVyZWNsb3Vkcy5pbyIsImdpdmVuX25hbWUiOiJEaGFyYW5pIiwiZmFtaWx5X25hbWUiOiJEZWl2YXNpaGFtYW5pIiwidXNlcl9jb250ZXh0IjoiZGVmYXVsdC01ODY3Nzk2NS01ZDkwLTRhZDktOWQyYy1hNGRiMjJiYmQ3NjkiLCJlbWFpbCI6ImRoYXJhbmkuZGVpdmFzaWhhbWFuaUBhenVyZWNsb3Vkcy5pbyJ9.GdxdZuqLrqu2iYyxgmE0PIBySN0ebGqMkSZn_MfAsfZoUaBxD7zBUVHR11LC4k2Gr9L1ej5GpYbaYnka2t9fDXKjsoIpa-PbqiHSa5sMNda-hPX511HVlzsGTBizq4o2nbp1Onu8_aKygm0pW7yl_HN2yKt4rODym4JDo3dsQ0yc5fqQyvpMjFP6Yk9MaySg7vZTQs90C6kZteAy2J_HqcCmPGKARJFlrWlcHIjeXeC-RibhW7KQCPQdptfz3ynCQHInyPsruTgjttUm00-uOBOhqWvQLkWl22hdLa9yP-8eYGgdrL0ZY8nD5Pz98-L569RvrZx_w7dxuStvK9ct6Q\n",
      "10167278-a01c-4af9-9c23-be5ee8894579\n"
     ]
    },
    {
     "name": "stderr",
     "output_type": "stream",
     "text": [
      "c:\\Users\\Sandhya Rani\\miniconda3\\Lib\\site-packages\\urllib3\\connectionpool.py:1099: InsecureRequestWarning: Unverified HTTPS request is being made to host 'download.dataspace.copernicus.eu'. Adding certificate verification is strongly advised. See: https://urllib3.readthedocs.io/en/latest/advanced-usage.html#tls-warnings\n",
      "  warnings.warn(\n"
     ]
    },
    {
     "name": "stdout",
     "output_type": "stream",
     "text": [
      "S2B_MSIL2A_20230930T041549_N0509_R090_T46QEH_20230930T070035.SAFE\n",
      "eyJhbGciOiJSUzI1NiIsInR5cCIgOiAiSldUIiwia2lkIiA6ICJYVUh3VWZKaHVDVWo0X3k4ZF8xM0hxWXBYMFdwdDd2anhob2FPLUxzREZFIn0.eyJleHAiOjE3MjM0NDM5NjcsImlhdCI6MTcyMzQ0MzM2NywianRpIjoiNjhjOTNmZmEtNmI0ZS00MzQ2LTk0YTUtM2Y1MGQ4ZWI5YjVjIiwiaXNzIjoiaHR0cHM6Ly9pZGVudGl0eS5kYXRhc3BhY2UuY29wZXJuaWN1cy5ldS9hdXRoL3JlYWxtcy9DRFNFIiwiYXVkIjpbIkNMT1VERkVSUk9fUFVCTElDIiwiYWNjb3VudCJdLCJzdWIiOiI1ODY3Nzk2NS01ZDkwLTRhZDktOWQyYy1hNGRiMjJiYmQ3NjkiLCJ0eXAiOiJCZWFyZXIiLCJhenAiOiJjZHNlLXB1YmxpYyIsInNlc3Npb25fc3RhdGUiOiJmZWU4ZmQ2Yy02YWQ5LTQzM2ItOWM2Ni04MDU5MGM1ZjBhZTkiLCJhbGxvd2VkLW9yaWdpbnMiOlsiaHR0cHM6Ly9sb2NhbGhvc3Q6NDIwMCIsIioiLCJodHRwczovL3dvcmtzcGFjZS5zdGFnaW5nLWNkc2UtZGF0YS1leHBsb3Jlci5hcHBzLnN0YWdpbmcuaW50cmEuY2xvdWRmZXJyby5jb20iXSwicmVhbG1fYWNjZXNzIjp7InJvbGVzIjpbIm9mZmxpbmVfYWNjZXNzIiwidW1hX2F1dGhvcml6YXRpb24iLCJkZWZhdWx0LXJvbGVzLWNkYXMiLCJjb3Blcm5pY3VzLWdlbmVyYWwiXX0sInJlc291cmNlX2FjY2VzcyI6eyJhY2NvdW50Ijp7InJvbGVzIjpbIm1hbmFnZS1hY2NvdW50IiwibWFuYWdlLWFjY291bnQtbGlua3MiLCJ2aWV3LXByb2ZpbGUiXX19LCJzY29wZSI6IkFVRElFTkNFX1BVQkxJQyBvcGVuaWQgZW1haWwgcHJvZmlsZSBvbmRlbWFuZF9wcm9jZXNzaW5nIHVzZXItY29udGV4dCIsInNpZCI6ImZlZThmZDZjLTZhZDktNDMzYi05YzY2LTgwNTkwYzVmMGFlOSIsImdyb3VwX21lbWJlcnNoaXAiOlsiL2FjY2Vzc19ncm91cHMvdXNlcl90eXBvbG9neS9jb3Blcm5pY3VzX2dlbmVyYWwiLCIvb3JnYW5pemF0aW9ucy9kZWZhdWx0LTU4Njc3OTY1LTVkOTAtNGFkOS05ZDJjLWE0ZGIyMmJiZDc2OS9yZWd1bGFyX3VzZXIiXSwiZW1haWxfdmVyaWZpZWQiOnRydWUsIm5hbWUiOiJEaGFyYW5pIERlaXZhc2loYW1hbmkiLCJvcmdhbml6YXRpb25zIjpbImRlZmF1bHQtNTg2Nzc5NjUtNWQ5MC00YWQ5LTlkMmMtYTRkYjIyYmJkNzY5Il0sInVzZXJfY29udGV4dF9pZCI6IjYyYWU1Zjk1LWJmMWMtNDAzNC1iMzBmLTFjNDIyNDFlODVhNiIsImNvbnRleHRfcm9sZXMiOnt9LCJjb250ZXh0X2dyb3VwcyI6WyIvYWNjZXNzX2dyb3Vwcy91c2VyX3R5cG9sb2d5L2NvcGVybmljdXNfZ2VuZXJhbC8iLCIvb3JnYW5pemF0aW9ucy9kZWZhdWx0LTU4Njc3OTY1LTVkOTAtNGFkOS05ZDJjLWE0ZGIyMmJiZDc2OS9yZWd1bGFyX3VzZXIvIl0sInByZWZlcnJlZF91c2VybmFtZSI6ImRoYXJhbmkuZGVpdmFzaWhhbWFuaUBhenVyZWNsb3Vkcy5pbyIsImdpdmVuX25hbWUiOiJEaGFyYW5pIiwiZmFtaWx5X25hbWUiOiJEZWl2YXNpaGFtYW5pIiwidXNlcl9jb250ZXh0IjoiZGVmYXVsdC01ODY3Nzk2NS01ZDkwLTRhZDktOWQyYy1hNGRiMjJiYmQ3NjkiLCJlbWFpbCI6ImRoYXJhbmkuZGVpdmFzaWhhbWFuaUBhenVyZWNsb3Vkcy5pbyJ9.M3Mz7wzOGmZuQQIWTrkA_7QK5AQq-bX47dv-CAu5b2kaMy9ttgG6NDDkLMOPb072zvXyYnKIzYl29MmKHG9yASJXft79gLJv6DZ9cFDz12qmhION9O1YPs2E1Uh6cYe1kVV-0Zhku7s3o5CWf7Nh1bld8WmXRKw8siCJxpdIxDCp51Bj6Nc6oDvnwq8WJypoXrqLgclrkoUU9_pELrPixOlZMcnes6Lsct-GN0WMXH2HwyeQvLSl0daSrCD8xPQEeKFC2yXnr1l3VbsujVDEJWPlLbzBAdjWCAyAM6_JryBItI0GwAZlcNCVlP1eqjnuTLAuQ3XLnRcf0kzMn70d6Q\n",
      "3e54b4ee-23ad-4983-a830-36ab97bd3d8c\n"
     ]
    },
    {
     "name": "stderr",
     "output_type": "stream",
     "text": [
      "c:\\Users\\Sandhya Rani\\miniconda3\\Lib\\site-packages\\urllib3\\connectionpool.py:1099: InsecureRequestWarning: Unverified HTTPS request is being made to host 'download.dataspace.copernicus.eu'. Adding certificate verification is strongly advised. See: https://urllib3.readthedocs.io/en/latest/advanced-usage.html#tls-warnings\n",
      "  warnings.warn(\n"
     ]
    },
    {
     "name": "stdout",
     "output_type": "stream",
     "text": [
      "S2B_MSIL2A_20230930T041549_N0509_R090_T46RGP_20230930T070035.SAFE\n",
      "eyJhbGciOiJSUzI1NiIsInR5cCIgOiAiSldUIiwia2lkIiA6ICJYVUh3VWZKaHVDVWo0X3k4ZF8xM0hxWXBYMFdwdDd2anhob2FPLUxzREZFIn0.eyJleHAiOjE3MjM0NDQwNDEsImlhdCI6MTcyMzQ0MzQ0MSwianRpIjoiZTJiYjBmNDUtODNkZi00MzhkLWE3NzEtNmQyNTg5NjAyMjA3IiwiaXNzIjoiaHR0cHM6Ly9pZGVudGl0eS5kYXRhc3BhY2UuY29wZXJuaWN1cy5ldS9hdXRoL3JlYWxtcy9DRFNFIiwiYXVkIjpbIkNMT1VERkVSUk9fUFVCTElDIiwiYWNjb3VudCJdLCJzdWIiOiI1ODY3Nzk2NS01ZDkwLTRhZDktOWQyYy1hNGRiMjJiYmQ3NjkiLCJ0eXAiOiJCZWFyZXIiLCJhenAiOiJjZHNlLXB1YmxpYyIsInNlc3Npb25fc3RhdGUiOiIyMzIzNTRlYS02MmUwLTQwYzMtYTRiYy1jOTg2NjhkNGY3MmEiLCJhbGxvd2VkLW9yaWdpbnMiOlsiaHR0cHM6Ly9sb2NhbGhvc3Q6NDIwMCIsIioiLCJodHRwczovL3dvcmtzcGFjZS5zdGFnaW5nLWNkc2UtZGF0YS1leHBsb3Jlci5hcHBzLnN0YWdpbmcuaW50cmEuY2xvdWRmZXJyby5jb20iXSwicmVhbG1fYWNjZXNzIjp7InJvbGVzIjpbIm9mZmxpbmVfYWNjZXNzIiwidW1hX2F1dGhvcml6YXRpb24iLCJkZWZhdWx0LXJvbGVzLWNkYXMiLCJjb3Blcm5pY3VzLWdlbmVyYWwiXX0sInJlc291cmNlX2FjY2VzcyI6eyJhY2NvdW50Ijp7InJvbGVzIjpbIm1hbmFnZS1hY2NvdW50IiwibWFuYWdlLWFjY291bnQtbGlua3MiLCJ2aWV3LXByb2ZpbGUiXX19LCJzY29wZSI6IkFVRElFTkNFX1BVQkxJQyBvcGVuaWQgZW1haWwgcHJvZmlsZSBvbmRlbWFuZF9wcm9jZXNzaW5nIHVzZXItY29udGV4dCIsInNpZCI6IjIzMjM1NGVhLTYyZTAtNDBjMy1hNGJjLWM5ODY2OGQ0ZjcyYSIsImdyb3VwX21lbWJlcnNoaXAiOlsiL2FjY2Vzc19ncm91cHMvdXNlcl90eXBvbG9neS9jb3Blcm5pY3VzX2dlbmVyYWwiLCIvb3JnYW5pemF0aW9ucy9kZWZhdWx0LTU4Njc3OTY1LTVkOTAtNGFkOS05ZDJjLWE0ZGIyMmJiZDc2OS9yZWd1bGFyX3VzZXIiXSwiZW1haWxfdmVyaWZpZWQiOnRydWUsIm5hbWUiOiJEaGFyYW5pIERlaXZhc2loYW1hbmkiLCJvcmdhbml6YXRpb25zIjpbImRlZmF1bHQtNTg2Nzc5NjUtNWQ5MC00YWQ5LTlkMmMtYTRkYjIyYmJkNzY5Il0sInVzZXJfY29udGV4dF9pZCI6IjYyYWU1Zjk1LWJmMWMtNDAzNC1iMzBmLTFjNDIyNDFlODVhNiIsImNvbnRleHRfcm9sZXMiOnt9LCJjb250ZXh0X2dyb3VwcyI6WyIvYWNjZXNzX2dyb3Vwcy91c2VyX3R5cG9sb2d5L2NvcGVybmljdXNfZ2VuZXJhbC8iLCIvb3JnYW5pemF0aW9ucy9kZWZhdWx0LTU4Njc3OTY1LTVkOTAtNGFkOS05ZDJjLWE0ZGIyMmJiZDc2OS9yZWd1bGFyX3VzZXIvIl0sInByZWZlcnJlZF91c2VybmFtZSI6ImRoYXJhbmkuZGVpdmFzaWhhbWFuaUBhenVyZWNsb3Vkcy5pbyIsImdpdmVuX25hbWUiOiJEaGFyYW5pIiwiZmFtaWx5X25hbWUiOiJEZWl2YXNpaGFtYW5pIiwidXNlcl9jb250ZXh0IjoiZGVmYXVsdC01ODY3Nzk2NS01ZDkwLTRhZDktOWQyYy1hNGRiMjJiYmQ3NjkiLCJlbWFpbCI6ImRoYXJhbmkuZGVpdmFzaWhhbWFuaUBhenVyZWNsb3Vkcy5pbyJ9.R5J-lQF6UA1MB7fdDEqP-4T2AttQVJ5qzm0VudgxXGO_3DFfHY-TQ9rKX_bOhr8ra2-4ljiu0zSBRPVyUWlcs7e6PTP9zWu79cTiA67TMyaa1wCO-JrpU5Ul4hmyLmOjNIaYLYcKTPgIP_uCLI3m-b3OfEC9g9ScXB6tW58wQbFMINDYZYyioYHBAuT5kcT8xR4v1Eobk2Pla96wQbo2_WqKpWd6-YwB6dj6jgCT9UIWwXrlYoh66pEuxOep1H6CjK6is8Lvkdut98uln39ExDIDXm8yGhP4E7OG03GBzNr8wA0IvjE_5cYkB-aG1PKXNl3Vdtxe0ZT0WKInPBPK0A\n",
      "5d209a1b-684d-4c70-9367-6215d202e0b5\n"
     ]
    },
    {
     "name": "stderr",
     "output_type": "stream",
     "text": [
      "c:\\Users\\Sandhya Rani\\miniconda3\\Lib\\site-packages\\urllib3\\connectionpool.py:1099: InsecureRequestWarning: Unverified HTTPS request is being made to host 'download.dataspace.copernicus.eu'. Adding certificate verification is strongly advised. See: https://urllib3.readthedocs.io/en/latest/advanced-usage.html#tls-warnings\n",
      "  warnings.warn(\n"
     ]
    },
    {
     "name": "stdout",
     "output_type": "stream",
     "text": [
      "S2A_MSIL2A_20230930T050651_N0509_R019_T43PHP_20230930T081800.SAFE\n",
      "eyJhbGciOiJSUzI1NiIsInR5cCIgOiAiSldUIiwia2lkIiA6ICJYVUh3VWZKaHVDVWo0X3k4ZF8xM0hxWXBYMFdwdDd2anhob2FPLUxzREZFIn0.eyJleHAiOjE3MjM0NDQ1MDMsImlhdCI6MTcyMzQ0MzkwMywianRpIjoiMTA4N2JlZDEtY2NmOS00MWI0LWFjMWUtOGE1ZTg1MTM5NDBiIiwiaXNzIjoiaHR0cHM6Ly9pZGVudGl0eS5kYXRhc3BhY2UuY29wZXJuaWN1cy5ldS9hdXRoL3JlYWxtcy9DRFNFIiwiYXVkIjpbIkNMT1VERkVSUk9fUFVCTElDIiwiYWNjb3VudCJdLCJzdWIiOiI1ODY3Nzk2NS01ZDkwLTRhZDktOWQyYy1hNGRiMjJiYmQ3NjkiLCJ0eXAiOiJCZWFyZXIiLCJhenAiOiJjZHNlLXB1YmxpYyIsInNlc3Npb25fc3RhdGUiOiIxYTY4ZDFkZi04MWZlLTQwMDEtOTJmYS1kMzViM2NhZjRkNzQiLCJhbGxvd2VkLW9yaWdpbnMiOlsiaHR0cHM6Ly9sb2NhbGhvc3Q6NDIwMCIsIioiLCJodHRwczovL3dvcmtzcGFjZS5zdGFnaW5nLWNkc2UtZGF0YS1leHBsb3Jlci5hcHBzLnN0YWdpbmcuaW50cmEuY2xvdWRmZXJyby5jb20iXSwicmVhbG1fYWNjZXNzIjp7InJvbGVzIjpbIm9mZmxpbmVfYWNjZXNzIiwidW1hX2F1dGhvcml6YXRpb24iLCJkZWZhdWx0LXJvbGVzLWNkYXMiLCJjb3Blcm5pY3VzLWdlbmVyYWwiXX0sInJlc291cmNlX2FjY2VzcyI6eyJhY2NvdW50Ijp7InJvbGVzIjpbIm1hbmFnZS1hY2NvdW50IiwibWFuYWdlLWFjY291bnQtbGlua3MiLCJ2aWV3LXByb2ZpbGUiXX19LCJzY29wZSI6IkFVRElFTkNFX1BVQkxJQyBvcGVuaWQgZW1haWwgcHJvZmlsZSBvbmRlbWFuZF9wcm9jZXNzaW5nIHVzZXItY29udGV4dCIsInNpZCI6IjFhNjhkMWRmLTgxZmUtNDAwMS05MmZhLWQzNWIzY2FmNGQ3NCIsImdyb3VwX21lbWJlcnNoaXAiOlsiL2FjY2Vzc19ncm91cHMvdXNlcl90eXBvbG9neS9jb3Blcm5pY3VzX2dlbmVyYWwiLCIvb3JnYW5pemF0aW9ucy9kZWZhdWx0LTU4Njc3OTY1LTVkOTAtNGFkOS05ZDJjLWE0ZGIyMmJiZDc2OS9yZWd1bGFyX3VzZXIiXSwiZW1haWxfdmVyaWZpZWQiOnRydWUsIm5hbWUiOiJEaGFyYW5pIERlaXZhc2loYW1hbmkiLCJvcmdhbml6YXRpb25zIjpbImRlZmF1bHQtNTg2Nzc5NjUtNWQ5MC00YWQ5LTlkMmMtYTRkYjIyYmJkNzY5Il0sInVzZXJfY29udGV4dF9pZCI6IjYyYWU1Zjk1LWJmMWMtNDAzNC1iMzBmLTFjNDIyNDFlODVhNiIsImNvbnRleHRfcm9sZXMiOnt9LCJjb250ZXh0X2dyb3VwcyI6WyIvYWNjZXNzX2dyb3Vwcy91c2VyX3R5cG9sb2d5L2NvcGVybmljdXNfZ2VuZXJhbC8iLCIvb3JnYW5pemF0aW9ucy9kZWZhdWx0LTU4Njc3OTY1LTVkOTAtNGFkOS05ZDJjLWE0ZGIyMmJiZDc2OS9yZWd1bGFyX3VzZXIvIl0sInByZWZlcnJlZF91c2VybmFtZSI6ImRoYXJhbmkuZGVpdmFzaWhhbWFuaUBhenVyZWNsb3Vkcy5pbyIsImdpdmVuX25hbWUiOiJEaGFyYW5pIiwiZmFtaWx5X25hbWUiOiJEZWl2YXNpaGFtYW5pIiwidXNlcl9jb250ZXh0IjoiZGVmYXVsdC01ODY3Nzk2NS01ZDkwLTRhZDktOWQyYy1hNGRiMjJiYmQ3NjkiLCJlbWFpbCI6ImRoYXJhbmkuZGVpdmFzaWhhbWFuaUBhenVyZWNsb3Vkcy5pbyJ9.RK7zOi5X2ciGKgLXYMpKxDJ98afLT3Z0ys76vW2SUT4aXwlq0lbxbZsHlyV5DSYxIpxp4v3UELa1Z33LleGct0dFr4F19ACApbmGkzp3jSLJRM9HK0iTkxC7TtwLDoRPnhJw_r61w0QDmZuNu5JpRIzNwTUNypBnZl8s53SUoHKpKpQTEnCGl5QsN2cH_OJQg1lNC4PuxKzQBhe5TrJIrjdeqBU2NjrFk6yqcGSKR4qtogD4leml6EluX5pcUcT77Elw-nu_aGWtH0PICLHh6SPo-JbkqSR19ACQElbIHnHJhm9P7Ge22GoWjS92ncVO_dEd7jEwZeBBmHVt-1V2QQ\n",
      "88616bd5-8289-4b7c-a7f0-86fc130f6920\n"
     ]
    },
    {
     "name": "stderr",
     "output_type": "stream",
     "text": [
      "c:\\Users\\Sandhya Rani\\miniconda3\\Lib\\site-packages\\urllib3\\connectionpool.py:1099: InsecureRequestWarning: Unverified HTTPS request is being made to host 'download.dataspace.copernicus.eu'. Adding certificate verification is strongly advised. See: https://urllib3.readthedocs.io/en/latest/advanced-usage.html#tls-warnings\n",
      "  warnings.warn(\n"
     ]
    },
    {
     "name": "stdout",
     "output_type": "stream",
     "text": [
      "S2B_MSIL2A_20230930T041549_N0509_R090_T46QEK_20230930T070035.SAFE\n",
      "eyJhbGciOiJSUzI1NiIsInR5cCIgOiAiSldUIiwia2lkIiA6ICJYVUh3VWZKaHVDVWo0X3k4ZF8xM0hxWXBYMFdwdDd2anhob2FPLUxzREZFIn0.eyJleHAiOjE3MjM0NDQ2OTQsImlhdCI6MTcyMzQ0NDA5NCwianRpIjoiNjVkODQxYzEtNTBiZS00YjI4LWIzZWUtNDY1ZGRhYzYxMGM5IiwiaXNzIjoiaHR0cHM6Ly9pZGVudGl0eS5kYXRhc3BhY2UuY29wZXJuaWN1cy5ldS9hdXRoL3JlYWxtcy9DRFNFIiwiYXVkIjpbIkNMT1VERkVSUk9fUFVCTElDIiwiYWNjb3VudCJdLCJzdWIiOiI1ODY3Nzk2NS01ZDkwLTRhZDktOWQyYy1hNGRiMjJiYmQ3NjkiLCJ0eXAiOiJCZWFyZXIiLCJhenAiOiJjZHNlLXB1YmxpYyIsInNlc3Npb25fc3RhdGUiOiI3NjViZjI3NC0zZTJkLTRhMTUtYjNmMC04MDA2M2ZlN2ViYmEiLCJhbGxvd2VkLW9yaWdpbnMiOlsiaHR0cHM6Ly9sb2NhbGhvc3Q6NDIwMCIsIioiLCJodHRwczovL3dvcmtzcGFjZS5zdGFnaW5nLWNkc2UtZGF0YS1leHBsb3Jlci5hcHBzLnN0YWdpbmcuaW50cmEuY2xvdWRmZXJyby5jb20iXSwicmVhbG1fYWNjZXNzIjp7InJvbGVzIjpbIm9mZmxpbmVfYWNjZXNzIiwidW1hX2F1dGhvcml6YXRpb24iLCJkZWZhdWx0LXJvbGVzLWNkYXMiLCJjb3Blcm5pY3VzLWdlbmVyYWwiXX0sInJlc291cmNlX2FjY2VzcyI6eyJhY2NvdW50Ijp7InJvbGVzIjpbIm1hbmFnZS1hY2NvdW50IiwibWFuYWdlLWFjY291bnQtbGlua3MiLCJ2aWV3LXByb2ZpbGUiXX19LCJzY29wZSI6IkFVRElFTkNFX1BVQkxJQyBvcGVuaWQgZW1haWwgcHJvZmlsZSBvbmRlbWFuZF9wcm9jZXNzaW5nIHVzZXItY29udGV4dCIsInNpZCI6Ijc2NWJmMjc0LTNlMmQtNGExNS1iM2YwLTgwMDYzZmU3ZWJiYSIsImdyb3VwX21lbWJlcnNoaXAiOlsiL2FjY2Vzc19ncm91cHMvdXNlcl90eXBvbG9neS9jb3Blcm5pY3VzX2dlbmVyYWwiLCIvb3JnYW5pemF0aW9ucy9kZWZhdWx0LTU4Njc3OTY1LTVkOTAtNGFkOS05ZDJjLWE0ZGIyMmJiZDc2OS9yZWd1bGFyX3VzZXIiXSwiZW1haWxfdmVyaWZpZWQiOnRydWUsIm5hbWUiOiJEaGFyYW5pIERlaXZhc2loYW1hbmkiLCJvcmdhbml6YXRpb25zIjpbImRlZmF1bHQtNTg2Nzc5NjUtNWQ5MC00YWQ5LTlkMmMtYTRkYjIyYmJkNzY5Il0sInVzZXJfY29udGV4dF9pZCI6IjYyYWU1Zjk1LWJmMWMtNDAzNC1iMzBmLTFjNDIyNDFlODVhNiIsImNvbnRleHRfcm9sZXMiOnt9LCJjb250ZXh0X2dyb3VwcyI6WyIvYWNjZXNzX2dyb3Vwcy91c2VyX3R5cG9sb2d5L2NvcGVybmljdXNfZ2VuZXJhbC8iLCIvb3JnYW5pemF0aW9ucy9kZWZhdWx0LTU4Njc3OTY1LTVkOTAtNGFkOS05ZDJjLWE0ZGIyMmJiZDc2OS9yZWd1bGFyX3VzZXIvIl0sInByZWZlcnJlZF91c2VybmFtZSI6ImRoYXJhbmkuZGVpdmFzaWhhbWFuaUBhenVyZWNsb3Vkcy5pbyIsImdpdmVuX25hbWUiOiJEaGFyYW5pIiwiZmFtaWx5X25hbWUiOiJEZWl2YXNpaGFtYW5pIiwidXNlcl9jb250ZXh0IjoiZGVmYXVsdC01ODY3Nzk2NS01ZDkwLTRhZDktOWQyYy1hNGRiMjJiYmQ3NjkiLCJlbWFpbCI6ImRoYXJhbmkuZGVpdmFzaWhhbWFuaUBhenVyZWNsb3Vkcy5pbyJ9.fxV-nJt23lgyQu9BwIYCTxclbK_uv9WodGaa13Mgg8o_75v77ocEWv7ZX84fVUm6l-KcJHmvHUDSGJSMY9HOr5YugByDOqIPyor5Rj8lGj53DOqxLuN-xUQAOCwaOD4m404Yo1iF_izRpZpwGUm50o4xTIUQwQDQDOFbONJr_BYSePOG19WEmsYihuO7e597gSfg27ubNc1R4QwWM16BERlt9JgsVAHQiIfbTtmBY28eV4TrVEVyk7BsRf4RQSBXm7x6ZYWs_L4Ypt_GtZiq344pbAeRPJjNsWY8MhSnB5f3YmL2fKGPJ7U92ELI9hxMOUCF0hOgVPCfbJCMlfIIqA\n"
     ]
    }
   ],
   "source": [
    "# Fetch Dataset\n",
    "json_ = requests.get(\n",
    "    f\"https://catalogue.dataspace.copernicus.eu/odata/v1/Products?$filter=Collection/Name eq '{data_collection}' and OData.CSC.Intersects(area=geography'SRID=4326;{ft}') and ContentDate/Start gt {start_date}T00:00:00.000Z and ContentDate/Start lt {end_date}T00:00:00.000Z&$count=True&$top=1000\"\n",
    ").json()  \n",
    "p = pd.DataFrame.from_dict(json_[\"value\"]) # Fetch available dataset\n",
    "\n",
    "if p.shape[0] > 0 : # If we get data back\n",
    "    p[\"geometry\"] = p[\"GeoFootprint\"].apply(shape)\n",
    "    # Convert pandas dataframe to Geopandas dataframe by setting up geometry\n",
    "    productDF = gpd.GeoDataFrame(p).set_geometry(\"geometry\") \n",
    "    # Remove L1C dataset if not needed\n",
    "    if data_collection == \"SENTINEL-2\":\n",
    "        productDF = productDF[~productDF[\"Name\"].str.contains(\"L1C\")] \n",
    "        print(f\" total L2A tiles found {len(productDF)}\")\n",
    "    else:\n",
    "        productDF[(~productDF[\"Name\"].str.contains(\"RAW\"))&(~productDF[\"Name\"].str.contains(\"SLC\"))&(~productDF[\"Name\"].str.contains(\"ETA\"))] \n",
    "        print(f\" total GRD tiles found {len(productDF)}\")\n",
    "    \n",
    "    productDF[\"identifier\"] = productDF[\"Name\"].str.split(\".\").str[0]\n",
    "    allfeat = len(productDF) \n",
    "\n",
    "    if allfeat == 0: # If L2A tiles are not available in current query\n",
    "        print(f\"No tiles found for {end_date}\")\n",
    "    else: # If L2A tiles are available in current query\n",
    "        # download all tiles from server\n",
    "        for index,feat in enumerate(productDF.iterfeatures()):\n",
    "            try:\n",
    "                # Create requests session \n",
    "                session = requests.Session()\n",
    "                # Get access token based on username and password\n",
    "                keycloak_token = get_keycloak(copernicus_user,copernicus_password)\n",
    "                print(keycloak_token)\n",
    "                session.headers.update({\"Authorization\": f\"Bearer {keycloak_token}\"})\n",
    "                url = f\"https://catalogue.dataspace.copernicus.eu/odata/v1/Products({feat['properties']['Id']})/$value\"\n",
    "                response = session.get(url, allow_redirects=False)\n",
    "                while response.status_code in (301, 302, 303, 307):\n",
    "                    url = response.headers[\"Location\"]\n",
    "                    response = session.get(url, allow_redirects=False)\n",
    "                print(feat[\"properties\"][\"Id\"])\n",
    "                file = session.get(url, verify=False, allow_redirects=True)\n",
    "\n",
    "                with open(\n",
    "                    f\"Z:\\\\SENTINEL{data_collection.split(\"-\")[1]}\\\\{feat['properties']['identifier']}.zip\", #location to save zip from copernicus \n",
    "                    \"wb\",\n",
    "                ) as p:\n",
    "                    print(feat[\"properties\"][\"Name\"])\n",
    "                    p.write(file.content)\n",
    "            except:\n",
    "                print(\"problem with server\")\n",
    "\n",
    "else:  # If no tiles found for given date range and AOI\n",
    "    print(\"Data not found\")"
   ]
  },
  {
   "cell_type": "code",
   "execution_count": null,
   "metadata": {},
   "outputs": [],
   "source": []
  }
 ],
 "metadata": {
  "kernelspec": {
   "display_name": "base",
   "language": "python",
   "name": "python3"
  },
  "language_info": {
   "codemirror_mode": {
    "name": "ipython",
    "version": 3
   },
   "file_extension": ".py",
   "mimetype": "text/x-python",
   "name": "python",
   "nbconvert_exporter": "python",
   "pygments_lexer": "ipython3",
   "version": "3.12.4"
  }
 },
 "nbformat": 4,
 "nbformat_minor": 2
}
